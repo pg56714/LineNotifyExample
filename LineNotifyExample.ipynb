{
  "nbformat": 4,
  "nbformat_minor": 0,
  "metadata": {
    "colab": {
      "provenance": []
    },
    "kernelspec": {
      "name": "python3",
      "display_name": "Python 3"
    },
    "language_info": {
      "name": "python"
    }
  },
  "cells": [
    {
      "cell_type": "markdown",
      "source": [
        "Line Notify： https://notify-bot.line.me/zh_TW/\n",
        "\n",
        "氣象會員及權杖取得： https://opendata.cwb.gov.tw/userLogin\n",
        "\n",
        "氣象公開資料API： https://opendata.cwb.gov.tw/dist/opendata-swagger.html\n",
        "\n",
        "Line 貼圖： https://developers.line.biz/en/docs/messaging-api/sticker-list/"
      ],
      "metadata": {
        "id": "wUdehZUiiDOy"
      }
    },
    {
      "cell_type": "markdown",
      "source": [
        "**資料來源**"
      ],
      "metadata": {
        "id": "AJpc6unJDacP"
      }
    },
    {
      "cell_type": "code",
      "source": [
        "# 天氣\n",
        "import requests\n",
        "url = '氣象公開資料API網址'\n",
        "data = requests.get(url)\n",
        "data = data.json()\n",
        "\n",
        "#time = data['records']['locations'][0]['location'][0]['weatherElement']\n",
        "#print(time)\n",
        "X = data['records']['locations'][0]['location'][0]['weatherElement'][0]['time']\n",
        "for i in X:\n",
        "  #print(i)\n",
        "  if(i['elementValue'][0]['value'] != ' '):\n",
        "    message = '天氣預報'+'從'+i['startTime']+'到'+i['endTime']+'的降雨機率是'+i['elementValue'][0]['value']+'%'\n",
        "    #print('從',i['startTime'],'到',i['endTime'],'的降雨機率是',i['elementValue'][0]['value'],'%')\n",
        "    print(message)"
      ],
      "metadata": {
        "id": "EZyHitB_DdoN"
      },
      "execution_count": null,
      "outputs": []
    },
    {
      "cell_type": "markdown",
      "source": [
        "**貼圖設定**"
      ],
      "metadata": {
        "id": "WjjsWeTgloct"
      }
    },
    {
      "cell_type": "code",
      "source": [
        "PID = 446\n",
        "SID = 1988"
      ],
      "metadata": {
        "id": "VMKBAYoSCJ0f"
      },
      "execution_count": null,
      "outputs": []
    },
    {
      "cell_type": "markdown",
      "source": [
        "**發送訊息**"
      ],
      "metadata": {
        "id": "V6oZI2eMZfcs"
      }
    },
    {
      "cell_type": "code",
      "source": [
        "import requests\n",
        "url = 'https://notify-api.line.me/api/notify'\n",
        "token = 'token'\n",
        "headers = {\n",
        "    # Bearer後要加空格\n",
        "    'Authorization': 'Bearer ' + token\n",
        "}\n",
        "data = {\n",
        "    'message':message,\n",
        "    # 貼圖\n",
        "    'stickerPackageId':PID,\n",
        "    'stickerId':SID,\n",
        "    # 圖片\n",
        "    #'imageThumbnail':'https://hybrid-hills.tokyo/wp-content/uploads/2021/09/googles-23rd-birthday-m.png',\n",
        "    #'imageFullsize':'https://hybrid-hills.tokyo/wp-content/uploads/2021/09/googles-23rd-birthday-m.png',\n",
        "\n",
        "    # gif\n",
        "    'imageThumbnail':'https://img.vpnclub.cc/zh/2021/Googles-23rd-Birthday-01.gif',\n",
        "    'imageFullsize':'https://img.vpnclub.cc/zh/2021/Googles-23rd-Birthday-01.gif',\n",
        "}\n",
        "data = requests.post(url, headers=headers, data=data)"
      ],
      "metadata": {
        "id": "k3c0GkL0CKOf"
      },
      "execution_count": null,
      "outputs": []
    }
  ]
}